{
 "cells": [
  {
   "cell_type": "markdown",
   "metadata": {},
   "source": [
    "### Loading the data"
   ]
  },
  {
   "cell_type": "code",
   "execution_count": 2,
   "metadata": {},
   "outputs": [],
   "source": [
    "import pandas as pd\n",
    "from sklearn.feature_extraction.text import TfidfVectorizer\n",
    "from sklearn.metrics.pairwise import linear_kernel "
   ]
  },
  {
   "cell_type": "code",
   "execution_count": 3,
   "metadata": {},
   "outputs": [],
   "source": [
    "ds = pd.read_csv(\"C:/AITeam/AI In E-Commerce/Content Based Filtering/R Scripts/Products_Final.csv\")"
   ]
  },
  {
   "cell_type": "code",
   "execution_count": 4,
   "metadata": {},
   "outputs": [
    {
     "data": {
      "text/html": [
       "<div>\n",
       "<style scoped>\n",
       "    .dataframe tbody tr th:only-of-type {\n",
       "        vertical-align: middle;\n",
       "    }\n",
       "\n",
       "    .dataframe tbody tr th {\n",
       "        vertical-align: top;\n",
       "    }\n",
       "\n",
       "    .dataframe thead th {\n",
       "        text-align: right;\n",
       "    }\n",
       "</style>\n",
       "<table border=\"1\" class=\"dataframe\">\n",
       "  <thead>\n",
       "    <tr style=\"text-align: right;\">\n",
       "      <th></th>\n",
       "      <th>Product.Key</th>\n",
       "      <th>Product.VLongDescription</th>\n",
       "    </tr>\n",
       "  </thead>\n",
       "  <tbody>\n",
       "    <tr>\n",
       "      <th>0</th>\n",
       "      <td>1.0</td>\n",
       "      <td>Commercial Chrome Drying Rack 24' chrm w/blk f...</td>\n",
       "    </tr>\n",
       "    <tr>\n",
       "      <th>1</th>\n",
       "      <td>2.0</td>\n",
       "      <td>Slim Com Chrome Drying Rack 18' chrm w/blk fit...</td>\n",
       "    </tr>\n",
       "    <tr>\n",
       "      <th>2</th>\n",
       "      <td>3.0</td>\n",
       "      <td>Adj Ht Dbl Flared Garment Rack chrm+blk w/cast...</td>\n",
       "    </tr>\n",
       "    <tr>\n",
       "      <th>3</th>\n",
       "      <td>4.0</td>\n",
       "      <td>Adjustable Height Garment Rack chrm+blk w/cast...</td>\n",
       "    </tr>\n",
       "    <tr>\n",
       "      <th>4</th>\n",
       "      <td>5.0</td>\n",
       "      <td>Expandable Garment Rack adj ht-exp chrm+blk w/...</td>\n",
       "    </tr>\n",
       "  </tbody>\n",
       "</table>\n",
       "</div>"
      ],
      "text/plain": [
       "   Product.Key                           Product.VLongDescription\n",
       "0          1.0  Commercial Chrome Drying Rack 24' chrm w/blk f...\n",
       "1          2.0  Slim Com Chrome Drying Rack 18' chrm w/blk fit...\n",
       "2          3.0  Adj Ht Dbl Flared Garment Rack chrm+blk w/cast...\n",
       "3          4.0  Adjustable Height Garment Rack chrm+blk w/cast...\n",
       "4          5.0  Expandable Garment Rack adj ht-exp chrm+blk w/..."
      ]
     },
     "execution_count": 4,
     "metadata": {},
     "output_type": "execute_result"
    }
   ],
   "source": [
    "ds.head()"
   ]
  },
  {
   "cell_type": "markdown",
   "metadata": {},
   "source": [
    "### Creating a TF-IDF Vectorizer "
   ]
  },
  {
   "cell_type": "code",
   "execution_count": 5,
   "metadata": {},
   "outputs": [],
   "source": [
    "tf = TfidfVectorizer(analyzer='word', ngram_range=(1, 3), min_df=0, stop_words='english')\n",
    "tfidf_matrix = tf.fit_transform(ds['Product.VLongDescription'])"
   ]
  },
  {
   "cell_type": "code",
   "execution_count": 6,
   "metadata": {},
   "outputs": [
    {
     "name": "stdout",
     "output_type": "stream",
     "text": [
      "  (0, 76328)\t0.07935712266736171\n",
      "  (0, 110312)\t0.16124597187705228\n",
      "  (0, 143742)\t0.16124597187705228\n",
      "  (0, 92285)\t0.12136040440078569\n",
      "  (0, 143732)\t0.12136040440078569\n",
      "  (0, 92283)\t0.11659231566918098\n",
      "  (0, 143328)\t0.11546374842308897\n",
      "  (0, 92233)\t0.11698274894081664\n",
      "  (0, 95939)\t0.16498303998341557\n",
      "  (0, 66415)\t0.16498303998341557\n",
      "  (0, 75824)\t0.1754534976739804\n",
      "  (0, 24502)\t0.18376436749321184\n",
      "  (0, 143132)\t0.18376436749321184\n",
      "  (0, 92207)\t0.18376436749321184\n",
      "  (0, 76150)\t0.16498303998341557\n",
      "  (0, 83123)\t0.18376436749321184\n",
      "  (0, 137783)\t0.07935712266736171\n",
      "  (0, 76298)\t0.07772615242395964\n",
      "  (0, 110311)\t0.16124597187705228\n",
      "  (0, 143739)\t0.12136040440078569\n",
      "  (0, 143730)\t0.11659231566918098\n",
      "  (0, 92281)\t0.19735995063245557\n",
      "  (0, 143326)\t0.11546374842308897\n",
      "  (0, 95938)\t0.16498303998341557\n",
      "  (0, 66412)\t0.15293510205782085\n",
      "  :\t:\n",
      "  (5757, 169105)\t0.028398911341511512\n",
      "  (5757, 168383)\t0.05840605854246204\n",
      "  (5757, 146392)\t0.04133458700333496\n",
      "  (5757, 131163)\t0.06741852451463248\n",
      "  (5757, 134358)\t0.014847338675517113\n",
      "  (5757, 137000)\t0.02115643024352961\n",
      "  (5757, 62703)\t0.029515969351347256\n",
      "  (5757, 62179)\t0.02862356714841339\n",
      "  (5757, 104153)\t0.07161210392993704\n",
      "  (5757, 83829)\t0.021690723103042146\n",
      "  (5757, 122661)\t0.05773360211297708\n",
      "  (5757, 45128)\t0.022339650228004725\n",
      "  (5757, 15028)\t0.04149857221738257\n",
      "  (5757, 8730)\t0.021261927479833062\n",
      "  (5757, 89168)\t0.017719809252516185\n",
      "  (5757, 141028)\t0.04971768164138646\n",
      "  (5757, 59734)\t0.021910270974274837\n",
      "  (5757, 121366)\t0.03991955521971577\n",
      "  (5757, 73348)\t0.04054287125218749\n",
      "  (5757, 68110)\t0.03474287164242501\n",
      "  (5757, 81556)\t0.031159111522689343\n",
      "  (5757, 27171)\t0.028798453425349344\n",
      "  (5757, 77995)\t0.16075642301377235\n",
      "  (5757, 37177)\t0.08195448627258797\n",
      "  (5757, 24208)\t0.02252730174126621\n"
     ]
    }
   ],
   "source": [
    "print(tfidf_matrix)"
   ]
  },
  {
   "cell_type": "markdown",
   "metadata": {},
   "source": [
    "###### Now, we have a representation of every item in terms of its description. Next, we need to calculate the relevance or similarity of one document to another."
   ]
  },
  {
   "cell_type": "markdown",
   "metadata": {},
   "source": [
    "### Vector Space Model & Calculating Cosine Similarity"
   ]
  },
  {
   "cell_type": "code",
   "execution_count": 7,
   "metadata": {},
   "outputs": [
    {
     "name": "stdout",
     "output_type": "stream",
     "text": [
      "done!\n"
     ]
    }
   ],
   "source": [
    "cosine_similarities = linear_kernel(tfidf_matrix, tfidf_matrix)\n",
    "results = {}\n",
    "for idx, row in ds.iterrows():\n",
    "   similar_indices = cosine_similarities[idx].argsort()[:-100:-1] \n",
    "   similar_items = [(cosine_similarities[idx][i], ds['Product.Key'][i]) for i in similar_indices] \n",
    "   results[row['Product.Key']] = similar_items[1:]\n",
    "\n",
    "print('done!')"
   ]
  },
  {
   "cell_type": "code",
   "execution_count": 8,
   "metadata": {},
   "outputs": [],
   "source": [
    "def item(id):\n",
    "    return ds.loc[ds['Product.Key'] == id]['Product.VLongDescription'].tolist()[0].split(' - ')[0]\n",
    "\n",
    "# Just reads the results out of the dictionary.\n",
    "def recommend(item_id, num):\n",
    "    print(\"Recommending \" + str(num) + \" products similar to \" + item(item_id) + \"...\")\n",
    "    print(\"-------\")\n",
    "    recs = results[item_id][:num]\n",
    "    print(\"Recommended Item are below : \" )\n",
    "    for rec in recs:\n",
    "        print(\"Product ID \"  + str(rec[1]) + \", Description \" + item(rec[1]) + \" (score:\" + str(rec[0]) + \")\")\n"
   ]
  },
  {
   "cell_type": "code",
   "execution_count": 9,
   "metadata": {},
   "outputs": [
    {
     "name": "stdout",
     "output_type": "stream",
     "text": [
      "Recommending 5 products similar to Commercial Chrome Drying Rack 24' chrm w/blk fit  drying rack Drying Racks Drying racks indoor Chrome plated steel  A...\n",
      "-------\n",
      "Recommended Item are below : \n",
      "Product ID 2.0, Description Slim Com Chrome Drying Rack 18' chrm w/blk fit  drying rack Drying Racks Drying racks indoor Chrome plated steel  D (score:0.7130191689865444)\n",
      "Product ID 1932.0, Description Chrome Expandable Drying Rack expandable drying rack  drying rack Drying Racks Drying racks indoor Chrome plated steel   (score:0.5571693970496437)\n",
      "Product ID 204.0, Description KD Folding Drying Rack 23'KD wht pcoat w/blk fit  Drying Rack Drying Racks Drying racks indoor Silver  A (score:0.5073620652471014)\n",
      "Product ID 1365.0, Description Oversize Folding Drying Rack 27.5'KD wht pcoat w/blk fit  Drying Rack Drying Racks Drying racks indoor Charcoal  D (score:0.49198595650566085)\n",
      "Product ID 2701.0, Description Tripod Drying Rack-black 3-arm foldable rack SS/ABS  Drying Rack Drying Racks Drying racks indoor Silver  D (score:0.3948209634756853)\n"
     ]
    }
   ],
   "source": [
    "recommend(item_id=1, num=5)"
   ]
  }
 ],
 "metadata": {
  "kernelspec": {
   "display_name": "Python 3",
   "language": "python",
   "name": "python3"
  },
  "language_info": {
   "codemirror_mode": {
    "name": "ipython",
    "version": 3
   },
   "file_extension": ".py",
   "mimetype": "text/x-python",
   "name": "python",
   "nbconvert_exporter": "python",
   "pygments_lexer": "ipython3",
   "version": "3.8.3"
  }
 },
 "nbformat": 4,
 "nbformat_minor": 4
}
